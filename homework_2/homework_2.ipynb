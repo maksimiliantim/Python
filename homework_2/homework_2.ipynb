{
 "cells": [
  {
   "cell_type": "code",
   "execution_count": null,
   "metadata": {},
   "outputs": [
    {
     "name": "stdout",
     "output_type": "stream",
     "text": [
      "Ошибка: В файле обнаружено нечисловое значение: WITH RECURSIVE DirectoryHierarchy AS (\n"
     ]
    }
   ],
   "source": [
    "def read_numeric_lines(file_name):\n",
    "    try:\n",
    "        with open(file_name, 'r', encoding='utf-8') as file:\n",
    "            data = file.readlines()\n",
    "        numeric_lines = []\n",
    "        for line in data:\n",
    "            line = line.strip()  \n",
    "            if line.isdigit():  \n",
    "                numeric_lines.append(int(line))\n",
    "            else:\n",
    "                raise TypeError(f\"В файле обнаружено нечисловое значение: {line}\")\n",
    "        print(\"Числовые строки из файла:\")\n",
    "        for num in numeric_lines:\n",
    "            print(num)\n",
    "    except FileNotFoundError:\n",
    "        print(f\"Файл {file_name} не найден.\")\n",
    "    except TypeError as e:\n",
    "        print(f\"Ошибка: {e}\")\n",
    "read_numeric_lines('4.txt')"
   ]
  },
  {
   "cell_type": "code",
   "execution_count": null,
   "metadata": {},
   "outputs": [
    {
     "name": "stdout",
     "output_type": "stream",
     "text": [
      "Данные добавлены: 10. Текущий буфер: [10]\n",
      "Данные добавлены: 20. Текущий буфер: [10, 20]\n",
      "Данные добавлены: 30. Текущий буфер: [10, 20, 30]\n",
      "Данные добавлены: 40. Текущий буфер: [10, 20, 30, 40]\n",
      "Данные добавлены: 50. Текущий буфер: [10, 20, 30, 40, 50]\n",
      "Буфер переполнен. Данные будут очищены.\n",
      "Данные добавлены: 60. Текущий буфер: [60]\n",
      "Данные получены: 60. Текущий буфер: []\n",
      "Буфер пуст. Нет данных для получения.\n"
     ]
    }
   ],
   "source": [
    "class DataBuffer:\n",
    "    def __init__(self):\n",
    "        self.buffer = []\n",
    "    def add_data(self, data):\n",
    "        if len(self.buffer) >= 5:\n",
    "            print(\"Буфер переполнен. Данные будут очищены.\")\n",
    "            self.buffer.clear()\n",
    "        self.buffer.append(data)\n",
    "        print(f\"Данные добавлены: {data}. Текущий буфер: {self.buffer}\")\n",
    "    def get_data(self):\n",
    "        if not self.buffer:\n",
    "            print(\"Буфер пуст. Нет данных для получения.\")\n",
    "            return None\n",
    "        data = self.buffer.pop(0)  # Удаляем и возвращаем первый элемент\n",
    "        print(f\"Данные получены: {data}. Текущий буфер: {self.buffer}\")\n",
    "        return data\n",
    "buffer = DataBuffer()\n",
    "buffer.add_data(10)\n",
    "buffer.add_data(20)\n",
    "buffer.add_data(30)\n",
    "buffer.add_data(40)\n",
    "buffer.add_data(50)  \n",
    "buffer.add_data(60)\n",
    "buffer.get_data()  \n",
    "buffer.get_data()"
   ]
  },
  {
   "cell_type": "code",
   "execution_count": null,
   "metadata": {},
   "outputs": [],
   "source": []
  }
 ],
 "metadata": {
  "kernelspec": {
   "display_name": "Python 3",
   "language": "python",
   "name": "python3"
  },
  "language_info": {
   "codemirror_mode": {
    "name": "ipython",
    "version": 3
   },
   "file_extension": ".py",
   "mimetype": "text/x-python",
   "name": "python",
   "nbconvert_exporter": "python",
   "pygments_lexer": "ipython3",
   "version": "3.10.2"
  }
 },
 "nbformat": 4,
 "nbformat_minor": 2
}
