{
 "cells": [
  {
   "cell_type": "code",
   "execution_count": null,
   "metadata": {},
   "outputs": [
    {
     "ename": "TypeError",
     "evalue": "В файле найдено нечисловое значение: WITH RECURSIVE DirectoryHierarchy AS (",
     "output_type": "error",
     "traceback": [
      "\u001b[1;31m---------------------------------------------------------------------------\u001b[0m",
      "\u001b[1;31mValueError\u001b[0m                                Traceback (most recent call last)",
      "Cell \u001b[1;32mIn[4], line 11\u001b[0m, in \u001b[0;36mread_numeric_lines\u001b[1;34m(filename)\u001b[0m\n\u001b[0;32m      9\u001b[0m \u001b[38;5;28;01mtry\u001b[39;00m:\n\u001b[0;32m     10\u001b[0m     \u001b[38;5;66;03m# Попытка преобразовать строку в число\u001b[39;00m\n\u001b[1;32m---> 11\u001b[0m     num \u001b[38;5;241m=\u001b[39m \u001b[38;5;28;43mfloat\u001b[39;49m\u001b[43m(\u001b[49m\u001b[43mline\u001b[49m\u001b[43m)\u001b[49m\n\u001b[0;32m     12\u001b[0m     \u001b[38;5;28mprint\u001b[39m(line)\n",
      "\u001b[1;31mValueError\u001b[0m: could not convert string to float: 'WITH RECURSIVE DirectoryHierarchy AS ('",
      "\nDuring handling of the above exception, another exception occurred:\n",
      "\u001b[1;31mTypeError\u001b[0m                                 Traceback (most recent call last)",
      "Cell \u001b[1;32mIn[4], line 27\u001b[0m\n\u001b[0;32m     21\u001b[0m desktop \u001b[38;5;241m=\u001b[39m os\u001b[38;5;241m.\u001b[39mpath\u001b[38;5;241m.\u001b[39mjoin(os\u001b[38;5;241m.\u001b[39mpath\u001b[38;5;241m.\u001b[39mexpanduser(\u001b[38;5;124m\"\u001b[39m\u001b[38;5;124m~\u001b[39m\u001b[38;5;124m\"\u001b[39m), \u001b[38;5;124m\"\u001b[39m\u001b[38;5;124mDesktop\u001b[39m\u001b[38;5;124m\"\u001b[39m, \u001b[38;5;124m\"\u001b[39m\u001b[38;5;124m4.txt\u001b[39m\u001b[38;5;124m\"\u001b[39m)\n\u001b[0;32m     23\u001b[0m \u001b[38;5;66;03m# Если у вас русскоязычная ОС, возможно, нужно использовать \"Рабочий стол\"\u001b[39;00m\n\u001b[0;32m     24\u001b[0m \u001b[38;5;66;03m# desktop = os.path.join(os.path.expanduser(\"~\"), \"Рабочий стол\", \"4.txt\")\u001b[39;00m\n\u001b[0;32m     25\u001b[0m \n\u001b[0;32m     26\u001b[0m \u001b[38;5;66;03m# Пример использования функции\u001b[39;00m\n\u001b[1;32m---> 27\u001b[0m \u001b[43mread_numeric_lines\u001b[49m\u001b[43m(\u001b[49m\u001b[43mdesktop\u001b[49m\u001b[43m)\u001b[49m\n",
      "Cell \u001b[1;32mIn[4], line 15\u001b[0m, in \u001b[0;36mread_numeric_lines\u001b[1;34m(filename)\u001b[0m\n\u001b[0;32m     12\u001b[0m                 \u001b[38;5;28mprint\u001b[39m(line)\n\u001b[0;32m     13\u001b[0m             \u001b[38;5;28;01mexcept\u001b[39;00m \u001b[38;5;167;01mValueError\u001b[39;00m:\n\u001b[0;32m     14\u001b[0m                 \u001b[38;5;66;03m# Если преобразование не удалось, вызываем исключение\u001b[39;00m\n\u001b[1;32m---> 15\u001b[0m                 \u001b[38;5;28;01mraise\u001b[39;00m \u001b[38;5;167;01mTypeError\u001b[39;00m(\u001b[38;5;124mf\u001b[39m\u001b[38;5;124m\"\u001b[39m\u001b[38;5;124mВ файле найдено нечисловое значение: \u001b[39m\u001b[38;5;132;01m{\u001b[39;00mline\u001b[38;5;132;01m}\u001b[39;00m\u001b[38;5;124m\"\u001b[39m)\n\u001b[0;32m     16\u001b[0m \u001b[38;5;28;01mexcept\u001b[39;00m \u001b[38;5;167;01mFileNotFoundError\u001b[39;00m:\n\u001b[0;32m     17\u001b[0m     \u001b[38;5;66;03m# Если файл не найден, вызываем исключение\u001b[39;00m\n\u001b[0;32m     18\u001b[0m     \u001b[38;5;28;01mraise\u001b[39;00m \u001b[38;5;167;01mFileNotFoundError\u001b[39;00m(\u001b[38;5;124mf\u001b[39m\u001b[38;5;124m\"\u001b[39m\u001b[38;5;124mФайл \u001b[39m\u001b[38;5;132;01m{\u001b[39;00mfilename\u001b[38;5;132;01m}\u001b[39;00m\u001b[38;5;124m не найден\u001b[39m\u001b[38;5;124m\"\u001b[39m)\n",
      "\u001b[1;31mTypeError\u001b[0m: В файле найдено нечисловое значение: WITH RECURSIVE DirectoryHierarchy AS ("
     ]
    }
   ],
   "source": [
    "import os\n",
    "def read_numeric_lines(filename):\n",
    "    try:\n",
    "        with open(filename, 'r', encoding='utf-8') as file:\n",
    "            data = file.readlines()\n",
    "            for line in data:\n",
    "                line = line.strip()\n",
    "                try:\n",
    "                    num = float(line)\n",
    "                    print(line)\n",
    "                except ValueError:\n",
    "                    raise TypeError(f\"В файле найдено нечисловое значение: {line}\")\n",
    "    except FileNotFoundError:\n",
    "        raise FileNotFoundError(f\"Файл {filename} не найден\")\n",
    "desktop = os.path.join(os.path.expanduser(\"~\"), \"Desktop\", \"4.txt\")\n",
    "read_numeric_lines(desktop)"
   ]
  },
  {
   "cell_type": "code",
   "execution_count": null,
   "metadata": {},
   "outputs": [
    {
     "name": "stdout",
     "output_type": "stream",
     "text": [
      "Переполнение буфера\n",
      "Данные отсутствуют\n"
     ]
    }
   ],
   "source": [
    "class DataBuffer:\n",
    "    def __init__(self):\n",
    "        self.buffer = []\n",
    "    def add_data(self, data):\n",
    "        self.buffer.append(data)\n",
    "        if len(self.buffer) >= 5:\n",
    "            print(\"Переполнение буфера\")\n",
    "            self.buffer.clear()\n",
    "    def get_data(self):\n",
    "        if not self.buffer:\n",
    "            print(\"Данные отсутствуют\")\n",
    "        else:\n",
    "            return self.buffer\n",
    "buffer = DataBuffer()\n",
    "buffer.add_data(1)\n",
    "buffer.add_data(2)\n",
    "buffer.add_data(3)\n",
    "buffer.add_data(4)\n",
    "buffer.add_data(5) \n",
    "buffer.get_data()   "
   ]
  },
  {
   "cell_type": "code",
   "execution_count": null,
   "metadata": {},
   "outputs": [],
   "source": []
  }
 ],
 "metadata": {
  "kernelspec": {
   "display_name": "Python 3",
   "language": "python",
   "name": "python3"
  },
  "language_info": {
   "codemirror_mode": {
    "name": "ipython",
    "version": 3
   },
   "file_extension": ".py",
   "mimetype": "text/x-python",
   "name": "python",
   "nbconvert_exporter": "python",
   "pygments_lexer": "ipython3",
   "version": "3.10.2"
  }
 },
 "nbformat": 4,
 "nbformat_minor": 2
}
