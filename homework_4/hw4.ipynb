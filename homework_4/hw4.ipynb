{
 "cells": [
  {
   "cell_type": "code",
   "execution_count": 1,
   "metadata": {},
   "outputs": [
    {
     "name": "stdout",
     "output_type": "stream",
     "text": [
      "First 10 numbers from infinite generator:\n",
      "10 11 12 13 14 15 16 17 18 19 \n",
      "\n",
      "Squared numbers:\n",
      "[1, 4, 9, 16, 25]\n",
      "Combined iterators:\n",
      "[1, 2, 3, 'a', 'b', 'c']\n",
      "Handled StopIteration: Iterator is empty.\n"
     ]
    }
   ],
   "source": [
    "import itertools\n",
    "def infinite_number_generator(start=0):\n",
    "    try:\n",
    "        return itertools.count(start)\n",
    "    except Exception as e:\n",
    "        print(f\"Error in generating numbers: {e}\")\n",
    "def apply_function_to_iterator(iterator, func):\n",
    "    try:\n",
    "        return map(func, iterator)\n",
    "    except Exception as e:\n",
    "        print(f\"Error in applying function to iterator: {e}\")\n",
    "def combine_iterators(*iterators):\n",
    "    try:\n",
    "        return itertools.chain(*iterators)\n",
    "    except Exception as e:\n",
    "        print(f\"Error in combining iterators: {e}\")\n",
    "if __name__ == \"__main__\":\n",
    "    infinite_gen = infinite_number_generator(10)\n",
    "    print(\"First 10 numbers from infinite generator:\")\n",
    "    for _, num in zip(range(10), infinite_gen):\n",
    "        print(num, end=\" \")\n",
    "    print(\"\\n\")\n",
    "    finite_numbers = range(1, 6)\n",
    "    squared_numbers = apply_function_to_iterator(finite_numbers, lambda x: x**2)\n",
    "    print(\"Squared numbers:\")\n",
    "    print(list(squared_numbers))\n",
    "    iterator1 = [1, 2, 3]\n",
    "    iterator2 = ['a', 'b', 'c']\n",
    "    combined = combine_iterators(iterator1, iterator2)\n",
    "    print(\"Combined iterators:\")\n",
    "    print(list(combined))\n",
    "    try:\n",
    "        empty_iterator = iter([])\n",
    "        next(empty_iterator)\n",
    "    except StopIteration:\n",
    "        print(\"Handled StopIteration: Iterator is empty.\")"
   ]
  },
  {
   "cell_type": "code",
   "execution_count": 2,
   "metadata": {},
   "outputs": [
    {
     "name": "stdout",
     "output_type": "stream",
     "text": [
      "Текущая дата и время: 2024-11-30 21:22:41.257378\n",
      "Разница между 2024-11-30 и 2024-12-25: 25 дней\n",
      "Строка '2024-11-30 14:30:00' преобразована в дату: 2024-11-30 14:30:00\n"
     ]
    }
   ],
   "source": [
    "from datetime import datetime, timedelta\n",
    "def display_current_datetime():\n",
    "    current_datetime = datetime.now()\n",
    "    print(f\"Текущая дата и время: {current_datetime}\")\n",
    "def calculate_date_difference(date1, date2):\n",
    "    try:\n",
    "        date_format = \"%Y-%m-%d\"\n",
    "        d1 = datetime.strptime(date1, date_format)\n",
    "        d2 = datetime.strptime(date2, date_format)\n",
    "        difference = abs(d2 - d1)\n",
    "        print(f\"Разница между {date1} и {date2}: {difference.days} дней\")\n",
    "    except ValueError as e:\n",
    "        print(f\"Ошибка: {e}\")\n",
    "def convert_string_to_datetime(date_string):\n",
    "    try:\n",
    "        date_format = \"%Y-%m-%d %H:%M:%S\"\n",
    "        converted_date = datetime.strptime(date_string, date_format)\n",
    "        print(f\"Строка '{date_string}' преобразована в дату: {converted_date}\")\n",
    "    except ValueError as e:\n",
    "        print(f\"Ошибка: {e}\")\n",
    "display_current_datetime()\n",
    "calculate_date_difference(\"2024-11-30\", \"2024-12-25\")\n",
    "convert_string_to_datetime(\"2024-11-30 14:30:00\")"
   ]
  },
  {
   "cell_type": "code",
   "execution_count": null,
   "metadata": {},
   "outputs": [],
   "source": []
  }
 ],
 "metadata": {
  "kernelspec": {
   "display_name": "Python 3",
   "language": "python",
   "name": "python3"
  },
  "language_info": {
   "codemirror_mode": {
    "name": "ipython",
    "version": 3
   },
   "file_extension": ".py",
   "mimetype": "text/x-python",
   "name": "python",
   "nbconvert_exporter": "python",
   "pygments_lexer": "ipython3",
   "version": "3.10.2"
  }
 },
 "nbformat": 4,
 "nbformat_minor": 2
}
