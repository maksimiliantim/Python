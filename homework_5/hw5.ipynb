{
 "cells": [
  {
   "cell_type": "code",
   "execution_count": null,
   "metadata": {},
   "outputs": [
    {
     "name": "stdout",
     "output_type": "stream",
     "text": [
      "Продукты с ценой от 3 до 7 (не включая крайние числа):\n",
      "Banana\n",
      "Cherry\n",
      "Eggplant\n",
      "Fig\n"
     ]
    }
   ],
   "source": [
    "import sqlite3\n",
    "conn = sqlite3.connect(':memory:')  \n",
    "cursor = conn.cursor()\n",
    "cursor.execute('''\n",
    "CREATE TABLE products (\n",
    "    product_id INTEGER PRIMARY KEY,\n",
    "    product_name TEXT NOT NULL,\n",
    "    unit_price REAL NOT NULL\n",
    ")\n",
    "''')\n",
    "products = [\n",
    "    (1, 'Apple', 2.5),\n",
    "    (2, 'Banana', 3.0),\n",
    "    (3, 'Cherry', 6.5),\n",
    "    (4, 'Date', 7.0),\n",
    "    (5, 'Eggplant', 4.5),\n",
    "    (6, 'Fig', 3.5)\n",
    "]\n",
    "cursor.executemany('INSERT INTO products VALUES (?, ?, ?)', products)\n",
    "query = '''\n",
    "SELECT product_name\n",
    "FROM products\n",
    "WHERE unit_price >= 3 AND unit_price < 7\n",
    "'''\n",
    "cursor.execute(query)\n",
    "results = cursor.fetchall()\n",
    "print(\"Продукты с ценой от 3 до 7 (не включая крайние числа):\")\n",
    "for row in results:\n",
    "    print(row[0])\n",
    "conn.close()"
   ]
  },
  {
   "cell_type": "code",
   "execution_count": null,
   "metadata": {},
   "outputs": [
    {
     "name": "stdout",
     "output_type": "stream",
     "text": [
      "Минимальная цена товара в категории 1: 2.5\n"
     ]
    }
   ],
   "source": [
    "import sqlite3\n",
    "conn = sqlite3.connect(':memory:') \n",
    "cursor = conn.cursor()\n",
    "cursor.execute('''\n",
    "CREATE TABLE products (\n",
    "    product_id INTEGER PRIMARY KEY,\n",
    "    product_name TEXT NOT NULL,\n",
    "    unit_price REAL NOT NULL,\n",
    "    category_id INTEGER NOT NULL\n",
    ")\n",
    "''')\n",
    "products = [\n",
    "    (1, 'Apple', 2.5, 1),\n",
    "    (2, 'Banana', 3.0, 1),\n",
    "    (3, 'Cherry', 6.5, 2),\n",
    "    (4, 'Date', 7.0, 2),\n",
    "    (5, 'Eggplant', 4.5, 1),\n",
    "    (6, 'Fig', 3.5, 1)\n",
    "]\n",
    "cursor.executemany('INSERT INTO products VALUES (?, ?, ?, ?)', products)\n",
    "query = '''\n",
    "SELECT MIN(unit_price) AS min_price\n",
    "FROM products\n",
    "WHERE category_id = 1\n",
    "'''\n",
    "cursor.execute(query)\n",
    "result = cursor.fetchone()\n",
    "print(f\"Минимальная цена товара в категории 1: {result[0]}\")\n",
    "conn.close()"
   ]
  },
  {
   "cell_type": "code",
   "execution_count": null,
   "metadata": {},
   "outputs": [
    {
     "name": "stdout",
     "output_type": "stream",
     "text": [
      "Результаты:\n",
      "Supplier ID | Max Price\n",
      "1           | 7.00\n",
      "3           | 4.50\n",
      "5           | 6.50\n"
     ]
    }
   ],
   "source": [
    "import sqlite3\n",
    "conn = sqlite3.connect(':memory:')  \n",
    "cursor = conn.cursor()\n",
    "cursor.execute('''\n",
    "CREATE TABLE products (\n",
    "    product_id INTEGER PRIMARY KEY,\n",
    "    product_name TEXT NOT NULL,\n",
    "    unit_price REAL NOT NULL,\n",
    "    supplier_id INTEGER NOT NULL\n",
    ")\n",
    "''')\n",
    "products = [\n",
    "    (1, 'Apple', 2.5, 1),\n",
    "    (2, 'Banana', 3.0, 3),\n",
    "    (3, 'Cherry', 6.5, 5),\n",
    "    (4, 'Date', 7.0, 1),\n",
    "    (5, 'Eggplant', 4.5, 3),\n",
    "    (6, 'Fig', 3.5, 5),\n",
    "    (7, 'Grape', 5.0, 2)\n",
    "]\n",
    "cursor.executemany('INSERT INTO products VALUES (?, ?, ?, ?)', products)\n",
    "query = '''\n",
    "SELECT supplier_id, MAX(unit_price) AS max_price\n",
    "FROM products\n",
    "WHERE supplier_id IN (1, 3, 5)\n",
    "GROUP BY supplier_id\n",
    "ORDER BY supplier_id\n",
    "'''\n",
    "cursor.execute(query)\n",
    "results = cursor.fetchall()\n",
    "print(\"Результаты:\")\n",
    "print(\"Supplier ID | Max Price\")\n",
    "for row in results:\n",
    "    print(f\"{row[0]:<11} | {row[1]:.2f}\")\n",
    "conn.close()"
   ]
  },
  {
   "cell_type": "code",
   "execution_count": null,
   "metadata": {},
   "outputs": [],
   "source": []
  }
 ],
 "metadata": {
  "kernelspec": {
   "display_name": "Python 3",
   "language": "python",
   "name": "python3"
  },
  "language_info": {
   "codemirror_mode": {
    "name": "ipython",
    "version": 3
   },
   "file_extension": ".py",
   "mimetype": "text/x-python",
   "name": "python",
   "nbconvert_exporter": "python",
   "pygments_lexer": "ipython3",
   "version": "3.10.2"
  }
 },
 "nbformat": 4,
 "nbformat_minor": 2
}
