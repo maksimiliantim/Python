{
 "cells": [
  {
   "cell_type": "code",
   "execution_count": null,
   "metadata": {},
   "outputs": [
    {
     "name": "stdout",
     "output_type": "stream",
     "text": [
      "Количество уникальных слов: 4\n",
      "Список уникальных слов: ['вышел', 'заяц', 'на', 'крыльцо']\n"
     ]
    }
   ],
   "source": [
    "from collections import Counter\n",
    "import string\n",
    "def count_unique_words(sentence):\n",
    "    translator = str.maketrans('', '', string.punctuation)\n",
    "    cleaned_sentence = sentence.translate(translator).lower()\n",
    "    words = cleaned_sentence.split()\n",
    "    word_counts = Counter(words)\n",
    "    print(f\"Количество уникальных слов: {len(word_counts)}\")\n",
    "    print(f\"Список уникальных слов: {list(word_counts.keys())}\")\n",
    "sentence = \"Вышел заяц на крыльцо.\"\n",
    "count_unique_words(sentence)"
   ]
  },
  {
   "cell_type": "code",
   "execution_count": null,
   "metadata": {},
   "outputs": [],
   "source": []
  }
 ],
 "metadata": {
  "kernelspec": {
   "display_name": "Python 3",
   "language": "python",
   "name": "python3"
  },
  "language_info": {
   "codemirror_mode": {
    "name": "ipython",
    "version": 3
   },
   "file_extension": ".py",
   "mimetype": "text/x-python",
   "name": "python",
   "nbconvert_exporter": "python",
   "pygments_lexer": "ipython3",
   "version": "3.10.2"
  }
 },
 "nbformat": 4,
 "nbformat_minor": 2
}
